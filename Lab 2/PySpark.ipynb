{
 "cells": [
  {
   "cell_type": "markdown",
   "metadata": {},
   "source": [
    "1. Name: Abdelrahman Hamdy Ahmed | Sec: 1 | BN: 38 | Code: 9202833\n",
    "\n",
    "2. Name: Abdelrahman Noaman Loqman | Sec: 2 | BN: 4 | Code: 9202851"
   ]
  },
  {
   "cell_type": "code",
   "execution_count": 1,
   "metadata": {},
   "outputs": [],
   "source": [
    "import findspark\n",
    "findspark.init()"
   ]
  },
  {
   "cell_type": "code",
   "execution_count": 2,
   "metadata": {},
   "outputs": [],
   "source": [
    "from pyspark.sql import SparkSession\n",
    "from pyspark.conf import SparkConf"
   ]
  },
  {
   "cell_type": "code",
   "execution_count": 3,
   "metadata": {},
   "outputs": [],
   "source": [
    "spark = SparkSession.builder.master(\"local[*]\").appName(\"Vodafone\").getOrCreate()"
   ]
  },
  {
   "cell_type": "code",
   "execution_count": 4,
   "metadata": {},
   "outputs": [],
   "source": [
    "sc = spark.sparkContext"
   ]
  },
  {
   "cell_type": "code",
   "execution_count": 7,
   "metadata": {},
   "outputs": [],
   "source": [
    "input_rdd = sc.textFile(\"in.csv\")"
   ]
  },
  {
   "cell_type": "code",
   "execution_count": 8,
   "metadata": {},
   "outputs": [
    {
     "data": {
      "text/plain": [
       "['224,10',\n",
       " '836,100',\n",
       " '81,5',\n",
       " '809,50',\n",
       " '786,25',\n",
       " '63,5',\n",
       " '478,25',\n",
       " '330,10',\n",
       " '511,15',\n",
       " '450,25']"
      ]
     },
     "execution_count": 8,
     "metadata": {},
     "output_type": "execute_result"
    }
   ],
   "source": [
    "input_rdd.take(10)"
   ]
  },
  {
   "cell_type": "code",
   "execution_count": 9,
   "metadata": {},
   "outputs": [],
   "source": [
    "def mapFunc(x):\n",
    "    x = x.split(\",\")\n",
    "    return (x[0], int(x[1]))"
   ]
  },
  {
   "cell_type": "code",
   "execution_count": 10,
   "metadata": {},
   "outputs": [],
   "source": [
    "results = input_rdd.map(mapFunc).reduceByKey(lambda x, y: (x + y)).sortByKey()"
   ]
  },
  {
   "cell_type": "code",
   "execution_count": 11,
   "metadata": {},
   "outputs": [
    {
     "data": {
      "text/plain": [
       "[('0', 2554710),\n",
       " ('1', 2540660),\n",
       " ('10', 2525035),\n",
       " ('100', 2568385),\n",
       " ('101', 2564425),\n",
       " ('102', 2538315),\n",
       " ('103', 2564125),\n",
       " ('104', 2555395),\n",
       " ('105', 2569490),\n",
       " ('106', 2555705),\n",
       " ('107', 2550640),\n",
       " ('108', 2551170),\n",
       " ('109', 2560765),\n",
       " ('11', 2561655),\n",
       " ('110', 2563440),\n",
       " ('111', 2528045),\n",
       " ('112', 2543330),\n",
       " ('113', 2544710),\n",
       " ('114', 2538730),\n",
       " ('115', 2541695),\n",
       " ('116', 2539050),\n",
       " ('117', 2558005),\n",
       " ('118', 2567940),\n",
       " ('119', 2581715),\n",
       " ('12', 2567315),\n",
       " ('120', 2581580),\n",
       " ('121', 2546640),\n",
       " ('122', 2556855),\n",
       " ('123', 2562060),\n",
       " ('124', 2546955),\n",
       " ('125', 2563090),\n",
       " ('126', 2544190),\n",
       " ('127', 2558585),\n",
       " ('128', 2574275),\n",
       " ('129', 2575620),\n",
       " ('13', 2548960),\n",
       " ('130', 2524385),\n",
       " ('131', 2572245),\n",
       " ('132', 2570320),\n",
       " ('133', 2563035)]"
      ]
     },
     "execution_count": 11,
     "metadata": {},
     "output_type": "execute_result"
    }
   ],
   "source": [
    "results.take(40)"
   ]
  },
  {
   "cell_type": "code",
   "execution_count": 12,
   "metadata": {},
   "outputs": [],
   "source": [
    "results_list = results.collect()\n",
    "with open(\"output.txt\", \"w\") as file:\n",
    "    for item in results_list:\n",
    "        file.write(\"%s %s\\n\" % item)"
   ]
  }
 ],
 "metadata": {
  "kernelspec": {
   "display_name": "Python 3",
   "language": "python",
   "name": "python3"
  },
  "language_info": {
   "codemirror_mode": {
    "name": "ipython",
    "version": 3
   },
   "file_extension": ".py",
   "mimetype": "text/x-python",
   "name": "python",
   "nbconvert_exporter": "python",
   "pygments_lexer": "ipython3",
   "version": "3.10.5"
  }
 },
 "nbformat": 4,
 "nbformat_minor": 2
}
